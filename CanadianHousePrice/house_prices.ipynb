{
 "cells": [
  {
   "cell_type": "code",
   "execution_count": 418,
   "id": "c0c4d598",
   "metadata": {},
   "outputs": [],
   "source": [
    "import pandas as pd\n",
    "import numpy as np\n",
    "import matplotlib.pyplot as plt\n"
   ]
  },
  {
   "cell_type": "markdown",
   "id": "d5d51e01",
   "metadata": {},
   "source": [
    "# Import the dataset"
   ]
  },
  {
   "cell_type": "code",
   "execution_count": 419,
   "id": "5687a224",
   "metadata": {},
   "outputs": [
    {
     "name": "stdout",
     "output_type": "stream",
     "text": [
      "Index(['City', 'Price', 'Address', 'Number_Beds', 'Number_Baths', 'Province',\n",
      "       'Population', 'Latitude', 'Longitude', 'Median_Family_Income'],\n",
      "      dtype='object')\n"
     ]
    }
   ],
   "source": [
    "df = pd.read_csv('Top45Cities.csv', encoding='iso-8859-1')\n",
    "print(df.columns)"
   ]
  },
  {
   "cell_type": "code",
   "execution_count": 420,
   "id": "4d8ef61e",
   "metadata": {},
   "outputs": [
    {
     "data": {
      "text/plain": [
       "(35768, 10)"
      ]
     },
     "execution_count": 420,
     "metadata": {},
     "output_type": "execute_result"
    }
   ],
   "source": [
    "df.shape"
   ]
  },
  {
   "cell_type": "code",
   "execution_count": 421,
   "id": "3ac2963f",
   "metadata": {},
   "outputs": [
    {
     "data": {
      "text/html": [
       "<div>\n",
       "<style scoped>\n",
       "    .dataframe tbody tr th:only-of-type {\n",
       "        vertical-align: middle;\n",
       "    }\n",
       "\n",
       "    .dataframe tbody tr th {\n",
       "        vertical-align: top;\n",
       "    }\n",
       "\n",
       "    .dataframe thead th {\n",
       "        text-align: right;\n",
       "    }\n",
       "</style>\n",
       "<table border=\"1\" class=\"dataframe\">\n",
       "  <thead>\n",
       "    <tr style=\"text-align: right;\">\n",
       "      <th></th>\n",
       "      <th>City</th>\n",
       "      <th>Price</th>\n",
       "      <th>Address</th>\n",
       "      <th>Number_Beds</th>\n",
       "      <th>Number_Baths</th>\n",
       "      <th>Province</th>\n",
       "      <th>Population</th>\n",
       "      <th>Latitude</th>\n",
       "      <th>Longitude</th>\n",
       "      <th>Median_Family_Income</th>\n",
       "    </tr>\n",
       "  </thead>\n",
       "  <tbody>\n",
       "    <tr>\n",
       "      <th>0</th>\n",
       "      <td>Toronto</td>\n",
       "      <td>779900.0</td>\n",
       "      <td>#318 -20 SOUTHPORT ST</td>\n",
       "      <td>3</td>\n",
       "      <td>2</td>\n",
       "      <td>Ontario</td>\n",
       "      <td>5647656</td>\n",
       "      <td>43.7417</td>\n",
       "      <td>-79.3733</td>\n",
       "      <td>97000.0</td>\n",
       "    </tr>\n",
       "    <tr>\n",
       "      <th>1</th>\n",
       "      <td>Toronto</td>\n",
       "      <td>799999.0</td>\n",
       "      <td>#818 -60 SOUTHPORT ST</td>\n",
       "      <td>3</td>\n",
       "      <td>1</td>\n",
       "      <td>Ontario</td>\n",
       "      <td>5647656</td>\n",
       "      <td>43.7417</td>\n",
       "      <td>-79.3733</td>\n",
       "      <td>97000.0</td>\n",
       "    </tr>\n",
       "    <tr>\n",
       "      <th>2</th>\n",
       "      <td>Toronto</td>\n",
       "      <td>799900.0</td>\n",
       "      <td>#714 -859 THE QUEENSWAY</td>\n",
       "      <td>2</td>\n",
       "      <td>2</td>\n",
       "      <td>Ontario</td>\n",
       "      <td>5647656</td>\n",
       "      <td>43.7417</td>\n",
       "      <td>-79.3733</td>\n",
       "      <td>97000.0</td>\n",
       "    </tr>\n",
       "    <tr>\n",
       "      <th>3</th>\n",
       "      <td>Toronto</td>\n",
       "      <td>1200000.0</td>\n",
       "      <td>275 MORTIMER AVE</td>\n",
       "      <td>4</td>\n",
       "      <td>2</td>\n",
       "      <td>Ontario</td>\n",
       "      <td>5647656</td>\n",
       "      <td>43.7417</td>\n",
       "      <td>-79.3733</td>\n",
       "      <td>97000.0</td>\n",
       "    </tr>\n",
       "    <tr>\n",
       "      <th>4</th>\n",
       "      <td>Toronto</td>\n",
       "      <td>668800.0</td>\n",
       "      <td>#420 -388 RICHMOND ST</td>\n",
       "      <td>1</td>\n",
       "      <td>1</td>\n",
       "      <td>Ontario</td>\n",
       "      <td>5647656</td>\n",
       "      <td>43.7417</td>\n",
       "      <td>-79.3733</td>\n",
       "      <td>97000.0</td>\n",
       "    </tr>\n",
       "    <tr>\n",
       "      <th>5</th>\n",
       "      <td>Toronto</td>\n",
       "      <td>548000.0</td>\n",
       "      <td>#2503 -99 HARBOUR SQ</td>\n",
       "      <td>0</td>\n",
       "      <td>1</td>\n",
       "      <td>Ontario</td>\n",
       "      <td>5647656</td>\n",
       "      <td>43.7417</td>\n",
       "      <td>-79.3733</td>\n",
       "      <td>97000.0</td>\n",
       "    </tr>\n",
       "    <tr>\n",
       "      <th>6</th>\n",
       "      <td>Toronto</td>\n",
       "      <td>669900.0</td>\n",
       "      <td>#817 -151 DAN LECKIE WAY</td>\n",
       "      <td>2</td>\n",
       "      <td>1</td>\n",
       "      <td>Ontario</td>\n",
       "      <td>5647656</td>\n",
       "      <td>43.7417</td>\n",
       "      <td>-79.3733</td>\n",
       "      <td>97000.0</td>\n",
       "    </tr>\n",
       "    <tr>\n",
       "      <th>7</th>\n",
       "      <td>Toronto</td>\n",
       "      <td>699000.0</td>\n",
       "      <td>#1107 -438 KING ST W</td>\n",
       "      <td>2</td>\n",
       "      <td>2</td>\n",
       "      <td>Ontario</td>\n",
       "      <td>5647656</td>\n",
       "      <td>43.7417</td>\n",
       "      <td>-79.3733</td>\n",
       "      <td>97000.0</td>\n",
       "    </tr>\n",
       "    <tr>\n",
       "      <th>8</th>\n",
       "      <td>Toronto</td>\n",
       "      <td>978000.0</td>\n",
       "      <td>#2708 -20 EDWARD ST</td>\n",
       "      <td>3</td>\n",
       "      <td>2</td>\n",
       "      <td>Ontario</td>\n",
       "      <td>5647656</td>\n",
       "      <td>43.7417</td>\n",
       "      <td>-79.3733</td>\n",
       "      <td>97000.0</td>\n",
       "    </tr>\n",
       "    <tr>\n",
       "      <th>9</th>\n",
       "      <td>Toronto</td>\n",
       "      <td>958000.0</td>\n",
       "      <td>#4616 -386 YONGE ST</td>\n",
       "      <td>2</td>\n",
       "      <td>2</td>\n",
       "      <td>Ontario</td>\n",
       "      <td>5647656</td>\n",
       "      <td>43.7417</td>\n",
       "      <td>-79.3733</td>\n",
       "      <td>97000.0</td>\n",
       "    </tr>\n",
       "  </tbody>\n",
       "</table>\n",
       "</div>"
      ],
      "text/plain": [
       "      City      Price                   Address  Number_Beds  Number_Baths  \\\n",
       "0  Toronto   779900.0     #318 -20 SOUTHPORT ST            3             2   \n",
       "1  Toronto   799999.0     #818 -60 SOUTHPORT ST            3             1   \n",
       "2  Toronto   799900.0   #714 -859 THE QUEENSWAY            2             2   \n",
       "3  Toronto  1200000.0          275 MORTIMER AVE            4             2   \n",
       "4  Toronto   668800.0     #420 -388 RICHMOND ST            1             1   \n",
       "5  Toronto   548000.0      #2503 -99 HARBOUR SQ            0             1   \n",
       "6  Toronto   669900.0  #817 -151 DAN LECKIE WAY            2             1   \n",
       "7  Toronto   699000.0      #1107 -438 KING ST W            2             2   \n",
       "8  Toronto   978000.0       #2708 -20 EDWARD ST            3             2   \n",
       "9  Toronto   958000.0       #4616 -386 YONGE ST            2             2   \n",
       "\n",
       "  Province  Population  Latitude  Longitude  Median_Family_Income  \n",
       "0  Ontario     5647656   43.7417   -79.3733               97000.0  \n",
       "1  Ontario     5647656   43.7417   -79.3733               97000.0  \n",
       "2  Ontario     5647656   43.7417   -79.3733               97000.0  \n",
       "3  Ontario     5647656   43.7417   -79.3733               97000.0  \n",
       "4  Ontario     5647656   43.7417   -79.3733               97000.0  \n",
       "5  Ontario     5647656   43.7417   -79.3733               97000.0  \n",
       "6  Ontario     5647656   43.7417   -79.3733               97000.0  \n",
       "7  Ontario     5647656   43.7417   -79.3733               97000.0  \n",
       "8  Ontario     5647656   43.7417   -79.3733               97000.0  \n",
       "9  Ontario     5647656   43.7417   -79.3733               97000.0  "
      ]
     },
     "execution_count": 421,
     "metadata": {},
     "output_type": "execute_result"
    }
   ],
   "source": [
    "\n",
    "df.head(10)"
   ]
  },
  {
   "cell_type": "code",
   "execution_count": 422,
   "id": "2682f436",
   "metadata": {},
   "outputs": [
    {
     "data": {
      "text/plain": [
       "array(['Toronto', 'Vancouver', 'Calgary', 'Edmonton', 'Ottawa',\n",
       "       'Winnipeg', 'Hamilton', 'Kitchener', 'London', 'St. Catharines',\n",
       "       'Oshawa', 'Victoria', 'Windsor', 'Saskatoon', 'Regina',\n",
       "       \"St. John's\", 'Barrie', 'Kelowna', 'Abbotsford', 'Sudbury',\n",
       "       'Kingston', 'Guelph', 'Moncton', 'Brantford', 'Thunder Bay',\n",
       "       'Saint John', 'Peterborough', 'Red Deer', 'Kamloops', 'Nanaimo',\n",
       "       'Lethbridge', 'White Rock', 'Maple Ridge', 'Prince George',\n",
       "       'Sault Ste. Marie', 'Medicine Hat', 'New Westminster', 'Caledon',\n",
       "       'Burnaby', 'Airdrie', 'Montreal', 'Sherbrooke', 'Quebec',\n",
       "       'Trois-Rivieres', 'Halifax'], dtype=object)"
      ]
     },
     "execution_count": 422,
     "metadata": {},
     "output_type": "execute_result"
    }
   ],
   "source": [
    "df['City'].unique()"
   ]
  },
  {
   "cell_type": "code",
   "execution_count": 423,
   "id": "f1b38278",
   "metadata": {},
   "outputs": [
    {
     "name": "stdout",
     "output_type": "stream",
     "text": [
      "9\n"
     ]
    },
    {
     "data": {
      "text/plain": [
       "array(['Ontario', 'British Columbia', 'Alberta', 'Manitoba',\n",
       "       'Saskatchewan', 'Newfoundland and Labrador', 'New Brunswick',\n",
       "       'Quebec', 'Nova Scotia'], dtype=object)"
      ]
     },
     "execution_count": 423,
     "metadata": {},
     "output_type": "execute_result"
    }
   ],
   "source": [
    "print(len(df['Province'].unique()))\n",
    "df['Province'].unique()"
   ]
  },
  {
   "cell_type": "code",
   "execution_count": 424,
   "id": "b614aeae",
   "metadata": {},
   "outputs": [
    {
     "data": {
      "text/plain": [
       "City\n",
       "Regina              1917\n",
       "Saskatoon           1800\n",
       "Edmonton            1351\n",
       "London              1345\n",
       "New Westminster     1337\n",
       "Caledon             1336\n",
       "Burnaby             1334\n",
       "Vancouver           1328\n",
       "Victoria            1325\n",
       "Calgary             1322\n",
       "Hamilton            1289\n",
       "Maple Ridge         1282\n",
       "Kelowna             1280\n",
       "Toronto             1276\n",
       "St. Catharines      1268\n",
       "Kitchener           1199\n",
       "White Rock          1175\n",
       "Ottawa              1097\n",
       "Oshawa              1082\n",
       "Barrie              1012\n",
       "Abbotsford           755\n",
       "Windsor              720\n",
       "Nanaimo              683\n",
       "St. John's           654\n",
       "Brantford            628\n",
       "Winnipeg             531\n",
       "Kingston             486\n",
       "Saint John           458\n",
       "Kamloops             442\n",
       "Guelph               436\n",
       "Moncton              416\n",
       "Lethbridge           379\n",
       "Red Deer             326\n",
       "Peterborough         307\n",
       "Prince George        307\n",
       "Medicine Hat         277\n",
       "Airdrie              225\n",
       "Montreal             212\n",
       "Sudbury              203\n",
       "Sherbrooke           197\n",
       "Quebec               196\n",
       "Trois-Rivieres       165\n",
       "Sault Ste. Marie     165\n",
       "Thunder Bay          154\n",
       "Halifax               91\n",
       "Name: count, dtype: int64"
      ]
     },
     "execution_count": 424,
     "metadata": {},
     "output_type": "execute_result"
    }
   ],
   "source": [
    "df['City'].value_counts()"
   ]
  },
  {
   "cell_type": "code",
   "execution_count": 425,
   "id": "5467c67b",
   "metadata": {},
   "outputs": [
    {
     "data": {
      "text/plain": [
       "Province\n",
       "Ontario                      14015\n",
       "British Columbia             11244\n",
       "Alberta                       3880\n",
       "Saskatchewan                  3707\n",
       "New Brunswick                  874\n",
       "Quebec                         770\n",
       "Newfoundland and Labrador      657\n",
       "Manitoba                       530\n",
       "Nova Scotia                     91\n",
       "Name: count, dtype: int64"
      ]
     },
     "execution_count": 425,
     "metadata": {},
     "output_type": "execute_result"
    }
   ],
   "source": [
    "df['Province'].value_counts()"
   ]
  },
  {
   "cell_type": "markdown",
   "id": "d188de1d",
   "metadata": {},
   "source": [
    "# Drop features that are not required for this project."
   ]
  },
  {
   "cell_type": "code",
   "execution_count": 426,
   "id": "071f1d6e",
   "metadata": {},
   "outputs": [
    {
     "data": {
      "text/plain": [
       "(35768, 5)"
      ]
     },
     "execution_count": 426,
     "metadata": {},
     "output_type": "execute_result"
    }
   ],
   "source": [
    "df1 = df.drop(['Address', 'Population', 'Latitude', 'Longitude', 'Median_Family_Income'], axis='columns')\n",
    "df1.shape"
   ]
  },
  {
   "cell_type": "code",
   "execution_count": 427,
   "id": "9f3c9e69",
   "metadata": {},
   "outputs": [
    {
     "data": {
      "text/html": [
       "<div>\n",
       "<style scoped>\n",
       "    .dataframe tbody tr th:only-of-type {\n",
       "        vertical-align: middle;\n",
       "    }\n",
       "\n",
       "    .dataframe tbody tr th {\n",
       "        vertical-align: top;\n",
       "    }\n",
       "\n",
       "    .dataframe thead th {\n",
       "        text-align: right;\n",
       "    }\n",
       "</style>\n",
       "<table border=\"1\" class=\"dataframe\">\n",
       "  <thead>\n",
       "    <tr style=\"text-align: right;\">\n",
       "      <th></th>\n",
       "      <th>City</th>\n",
       "      <th>Price</th>\n",
       "      <th>Number_Beds</th>\n",
       "      <th>Number_Baths</th>\n",
       "      <th>Province</th>\n",
       "    </tr>\n",
       "  </thead>\n",
       "  <tbody>\n",
       "    <tr>\n",
       "      <th>0</th>\n",
       "      <td>Toronto</td>\n",
       "      <td>779900.0</td>\n",
       "      <td>3</td>\n",
       "      <td>2</td>\n",
       "      <td>Ontario</td>\n",
       "    </tr>\n",
       "    <tr>\n",
       "      <th>1</th>\n",
       "      <td>Toronto</td>\n",
       "      <td>799999.0</td>\n",
       "      <td>3</td>\n",
       "      <td>1</td>\n",
       "      <td>Ontario</td>\n",
       "    </tr>\n",
       "    <tr>\n",
       "      <th>2</th>\n",
       "      <td>Toronto</td>\n",
       "      <td>799900.0</td>\n",
       "      <td>2</td>\n",
       "      <td>2</td>\n",
       "      <td>Ontario</td>\n",
       "    </tr>\n",
       "    <tr>\n",
       "      <th>3</th>\n",
       "      <td>Toronto</td>\n",
       "      <td>1200000.0</td>\n",
       "      <td>4</td>\n",
       "      <td>2</td>\n",
       "      <td>Ontario</td>\n",
       "    </tr>\n",
       "    <tr>\n",
       "      <th>4</th>\n",
       "      <td>Toronto</td>\n",
       "      <td>668800.0</td>\n",
       "      <td>1</td>\n",
       "      <td>1</td>\n",
       "      <td>Ontario</td>\n",
       "    </tr>\n",
       "    <tr>\n",
       "      <th>5</th>\n",
       "      <td>Toronto</td>\n",
       "      <td>548000.0</td>\n",
       "      <td>0</td>\n",
       "      <td>1</td>\n",
       "      <td>Ontario</td>\n",
       "    </tr>\n",
       "    <tr>\n",
       "      <th>6</th>\n",
       "      <td>Toronto</td>\n",
       "      <td>669900.0</td>\n",
       "      <td>2</td>\n",
       "      <td>1</td>\n",
       "      <td>Ontario</td>\n",
       "    </tr>\n",
       "    <tr>\n",
       "      <th>7</th>\n",
       "      <td>Toronto</td>\n",
       "      <td>699000.0</td>\n",
       "      <td>2</td>\n",
       "      <td>2</td>\n",
       "      <td>Ontario</td>\n",
       "    </tr>\n",
       "    <tr>\n",
       "      <th>8</th>\n",
       "      <td>Toronto</td>\n",
       "      <td>978000.0</td>\n",
       "      <td>3</td>\n",
       "      <td>2</td>\n",
       "      <td>Ontario</td>\n",
       "    </tr>\n",
       "    <tr>\n",
       "      <th>9</th>\n",
       "      <td>Toronto</td>\n",
       "      <td>958000.0</td>\n",
       "      <td>2</td>\n",
       "      <td>2</td>\n",
       "      <td>Ontario</td>\n",
       "    </tr>\n",
       "    <tr>\n",
       "      <th>10</th>\n",
       "      <td>Toronto</td>\n",
       "      <td>1899000.0</td>\n",
       "      <td>2</td>\n",
       "      <td>3</td>\n",
       "      <td>Ontario</td>\n",
       "    </tr>\n",
       "    <tr>\n",
       "      <th>11</th>\n",
       "      <td>Toronto</td>\n",
       "      <td>559900.0</td>\n",
       "      <td>2</td>\n",
       "      <td>1</td>\n",
       "      <td>Ontario</td>\n",
       "    </tr>\n",
       "    <tr>\n",
       "      <th>12</th>\n",
       "      <td>Toronto</td>\n",
       "      <td>498800.0</td>\n",
       "      <td>1</td>\n",
       "      <td>1</td>\n",
       "      <td>Ontario</td>\n",
       "    </tr>\n",
       "    <tr>\n",
       "      <th>13</th>\n",
       "      <td>Toronto</td>\n",
       "      <td>1450000.0</td>\n",
       "      <td>4</td>\n",
       "      <td>2</td>\n",
       "      <td>Ontario</td>\n",
       "    </tr>\n",
       "    <tr>\n",
       "      <th>14</th>\n",
       "      <td>Toronto</td>\n",
       "      <td>650000.0</td>\n",
       "      <td>2</td>\n",
       "      <td>1</td>\n",
       "      <td>Ontario</td>\n",
       "    </tr>\n",
       "    <tr>\n",
       "      <th>15</th>\n",
       "      <td>Toronto</td>\n",
       "      <td>745000.0</td>\n",
       "      <td>2</td>\n",
       "      <td>2</td>\n",
       "      <td>Ontario</td>\n",
       "    </tr>\n",
       "    <tr>\n",
       "      <th>16</th>\n",
       "      <td>Toronto</td>\n",
       "      <td>784900.0</td>\n",
       "      <td>3</td>\n",
       "      <td>2</td>\n",
       "      <td>Ontario</td>\n",
       "    </tr>\n",
       "    <tr>\n",
       "      <th>17</th>\n",
       "      <td>Toronto</td>\n",
       "      <td>998000.0</td>\n",
       "      <td>4</td>\n",
       "      <td>2</td>\n",
       "      <td>Ontario</td>\n",
       "    </tr>\n",
       "    <tr>\n",
       "      <th>18</th>\n",
       "      <td>Toronto</td>\n",
       "      <td>989900.0</td>\n",
       "      <td>4</td>\n",
       "      <td>2</td>\n",
       "      <td>Ontario</td>\n",
       "    </tr>\n",
       "    <tr>\n",
       "      <th>19</th>\n",
       "      <td>Toronto</td>\n",
       "      <td>1099000.0</td>\n",
       "      <td>3</td>\n",
       "      <td>2</td>\n",
       "      <td>Ontario</td>\n",
       "    </tr>\n",
       "  </tbody>\n",
       "</table>\n",
       "</div>"
      ],
      "text/plain": [
       "       City      Price  Number_Beds  Number_Baths Province\n",
       "0   Toronto   779900.0            3             2  Ontario\n",
       "1   Toronto   799999.0            3             1  Ontario\n",
       "2   Toronto   799900.0            2             2  Ontario\n",
       "3   Toronto  1200000.0            4             2  Ontario\n",
       "4   Toronto   668800.0            1             1  Ontario\n",
       "5   Toronto   548000.0            0             1  Ontario\n",
       "6   Toronto   669900.0            2             1  Ontario\n",
       "7   Toronto   699000.0            2             2  Ontario\n",
       "8   Toronto   978000.0            3             2  Ontario\n",
       "9   Toronto   958000.0            2             2  Ontario\n",
       "10  Toronto  1899000.0            2             3  Ontario\n",
       "11  Toronto   559900.0            2             1  Ontario\n",
       "12  Toronto   498800.0            1             1  Ontario\n",
       "13  Toronto  1450000.0            4             2  Ontario\n",
       "14  Toronto   650000.0            2             1  Ontario\n",
       "15  Toronto   745000.0            2             2  Ontario\n",
       "16  Toronto   784900.0            3             2  Ontario\n",
       "17  Toronto   998000.0            4             2  Ontario\n",
       "18  Toronto   989900.0            4             2  Ontario\n",
       "19  Toronto  1099000.0            3             2  Ontario"
      ]
     },
     "execution_count": 427,
     "metadata": {},
     "output_type": "execute_result"
    }
   ],
   "source": [
    "df1.head(20)"
   ]
  },
  {
   "cell_type": "code",
   "execution_count": 428,
   "id": "1a4e88b1",
   "metadata": {},
   "outputs": [
    {
     "data": {
      "text/plain": [
       "City            0\n",
       "Price           0\n",
       "Number_Beds     0\n",
       "Number_Baths    0\n",
       "Province        0\n",
       "dtype: int64"
      ]
     },
     "execution_count": 428,
     "metadata": {},
     "output_type": "execute_result"
    }
   ],
   "source": [
    "df1.isnull().sum()"
   ]
  },
  {
   "cell_type": "markdown",
   "id": "003b49b0",
   "metadata": {},
   "source": [
    "# removing duplicate values"
   ]
  },
  {
   "cell_type": "code",
   "execution_count": 429,
   "id": "9c0f1e99",
   "metadata": {},
   "outputs": [
    {
     "data": {
      "text/plain": [
       "np.int64(8499)"
      ]
     },
     "execution_count": 429,
     "metadata": {},
     "output_type": "execute_result"
    }
   ],
   "source": [
    "df1.duplicated().sum()"
   ]
  },
  {
   "cell_type": "code",
   "execution_count": 430,
   "id": "57597db7",
   "metadata": {},
   "outputs": [],
   "source": [
    "df1.drop_duplicates(inplace = True)"
   ]
  },
  {
   "cell_type": "code",
   "execution_count": 431,
   "id": "5ce63299",
   "metadata": {},
   "outputs": [
    {
     "data": {
      "text/plain": [
       "np.int64(0)"
      ]
     },
     "execution_count": 431,
     "metadata": {},
     "output_type": "execute_result"
    }
   ],
   "source": [
    "df1.duplicated().sum()"
   ]
  },
  {
   "cell_type": "markdown",
   "id": "0c281db4",
   "metadata": {},
   "source": [
    "# remove all listings with 0 beds"
   ]
  },
  {
   "cell_type": "code",
   "execution_count": 432,
   "id": "0ae4944a",
   "metadata": {},
   "outputs": [
    {
     "name": "stdout",
     "output_type": "stream",
     "text": [
      "0\n"
     ]
    }
   ],
   "source": [
    "df1 = df1[df1['Number_Beds'] != 0]\n",
    "# print(df1)\n",
    "zero_bedroom = df1[df1['Number_Beds'] == 0]\n",
    "print(len(zero_bedroom))"
   ]
  },
  {
   "cell_type": "markdown",
   "id": "34c67015",
   "metadata": {},
   "source": [
    "# remove all listings with 0 baths"
   ]
  },
  {
   "cell_type": "code",
   "execution_count": 433,
   "id": "6ce9bbb5",
   "metadata": {},
   "outputs": [
    {
     "name": "stdout",
     "output_type": "stream",
     "text": [
      "0\n"
     ]
    }
   ],
   "source": [
    "df1 = df1[df1['Number_Baths'] != 0]\n",
    "# print(df1)\n",
    "zero_bathroom = df1[df1['Number_Baths'] == 0]\n",
    "print(len(zero_bathroom))"
   ]
  },
  {
   "cell_type": "code",
   "execution_count": 434,
   "id": "7e98a4aa",
   "metadata": {},
   "outputs": [
    {
     "data": {
      "text/plain": [
       "(26702, 5)"
      ]
     },
     "execution_count": 434,
     "metadata": {},
     "output_type": "execute_result"
    }
   ],
   "source": [
    "df1.shape"
   ]
  },
  {
   "cell_type": "code",
   "execution_count": 435,
   "id": "bbbc6231",
   "metadata": {},
   "outputs": [
    {
     "data": {
      "text/plain": [
       "np.int64(0)"
      ]
     },
     "execution_count": 435,
     "metadata": {},
     "output_type": "execute_result"
    }
   ],
   "source": []
  }
 ],
 "metadata": {
  "kernelspec": {
   "display_name": "Python 3",
   "language": "python",
   "name": "python3"
  },
  "language_info": {
   "codemirror_mode": {
    "name": "ipython",
    "version": 3
   },
   "file_extension": ".py",
   "mimetype": "text/x-python",
   "name": "python",
   "nbconvert_exporter": "python",
   "pygments_lexer": "ipython3",
   "version": "3.12.6"
  }
 },
 "nbformat": 4,
 "nbformat_minor": 5
}
