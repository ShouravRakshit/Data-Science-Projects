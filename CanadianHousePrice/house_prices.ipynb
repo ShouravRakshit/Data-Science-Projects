{
 "cells": [
  {
   "cell_type": "code",
   "execution_count": 1878,
   "id": "c0c4d598",
   "metadata": {},
   "outputs": [],
   "source": [
    "import pandas as pd\n",
    "import numpy as np\n",
    "import matplotlib.pyplot as plt\n"
   ]
  },
  {
   "cell_type": "markdown",
   "id": "d5d51e01",
   "metadata": {},
   "source": [
    "# Import the dataset"
   ]
  },
  {
   "cell_type": "code",
   "execution_count": 1879,
   "id": "5687a224",
   "metadata": {},
   "outputs": [
    {
     "name": "stdout",
     "output_type": "stream",
     "text": [
      "Index(['City', 'Price', 'Address', 'Number_Beds', 'Number_Baths', 'Province',\n",
      "       'Population', 'Latitude', 'Longitude', 'Median_Family_Income'],\n",
      "      dtype='object')\n"
     ]
    }
   ],
   "source": [
    "df = pd.read_csv('Top45Cities.csv', encoding='iso-8859-1')\n",
    "print(df.columns)"
   ]
  },
  {
   "cell_type": "code",
   "execution_count": 1880,
   "id": "4d8ef61e",
   "metadata": {},
   "outputs": [
    {
     "data": {
      "text/plain": [
       "(35768, 10)"
      ]
     },
     "execution_count": 1880,
     "metadata": {},
     "output_type": "execute_result"
    }
   ],
   "source": [
    "df.shape"
   ]
  },
  {
   "cell_type": "code",
   "execution_count": 1881,
   "id": "3ac2963f",
   "metadata": {},
   "outputs": [
    {
     "data": {
      "text/html": [
       "<div>\n",
       "<style scoped>\n",
       "    .dataframe tbody tr th:only-of-type {\n",
       "        vertical-align: middle;\n",
       "    }\n",
       "\n",
       "    .dataframe tbody tr th {\n",
       "        vertical-align: top;\n",
       "    }\n",
       "\n",
       "    .dataframe thead th {\n",
       "        text-align: right;\n",
       "    }\n",
       "</style>\n",
       "<table border=\"1\" class=\"dataframe\">\n",
       "  <thead>\n",
       "    <tr style=\"text-align: right;\">\n",
       "      <th></th>\n",
       "      <th>City</th>\n",
       "      <th>Price</th>\n",
       "      <th>Address</th>\n",
       "      <th>Number_Beds</th>\n",
       "      <th>Number_Baths</th>\n",
       "      <th>Province</th>\n",
       "      <th>Population</th>\n",
       "      <th>Latitude</th>\n",
       "      <th>Longitude</th>\n",
       "      <th>Median_Family_Income</th>\n",
       "    </tr>\n",
       "  </thead>\n",
       "  <tbody>\n",
       "    <tr>\n",
       "      <th>0</th>\n",
       "      <td>Toronto</td>\n",
       "      <td>779900.0</td>\n",
       "      <td>#318 -20 SOUTHPORT ST</td>\n",
       "      <td>3</td>\n",
       "      <td>2</td>\n",
       "      <td>Ontario</td>\n",
       "      <td>5647656</td>\n",
       "      <td>43.7417</td>\n",
       "      <td>-79.3733</td>\n",
       "      <td>97000.0</td>\n",
       "    </tr>\n",
       "    <tr>\n",
       "      <th>1</th>\n",
       "      <td>Toronto</td>\n",
       "      <td>799999.0</td>\n",
       "      <td>#818 -60 SOUTHPORT ST</td>\n",
       "      <td>3</td>\n",
       "      <td>1</td>\n",
       "      <td>Ontario</td>\n",
       "      <td>5647656</td>\n",
       "      <td>43.7417</td>\n",
       "      <td>-79.3733</td>\n",
       "      <td>97000.0</td>\n",
       "    </tr>\n",
       "    <tr>\n",
       "      <th>2</th>\n",
       "      <td>Toronto</td>\n",
       "      <td>799900.0</td>\n",
       "      <td>#714 -859 THE QUEENSWAY</td>\n",
       "      <td>2</td>\n",
       "      <td>2</td>\n",
       "      <td>Ontario</td>\n",
       "      <td>5647656</td>\n",
       "      <td>43.7417</td>\n",
       "      <td>-79.3733</td>\n",
       "      <td>97000.0</td>\n",
       "    </tr>\n",
       "    <tr>\n",
       "      <th>3</th>\n",
       "      <td>Toronto</td>\n",
       "      <td>1200000.0</td>\n",
       "      <td>275 MORTIMER AVE</td>\n",
       "      <td>4</td>\n",
       "      <td>2</td>\n",
       "      <td>Ontario</td>\n",
       "      <td>5647656</td>\n",
       "      <td>43.7417</td>\n",
       "      <td>-79.3733</td>\n",
       "      <td>97000.0</td>\n",
       "    </tr>\n",
       "    <tr>\n",
       "      <th>4</th>\n",
       "      <td>Toronto</td>\n",
       "      <td>668800.0</td>\n",
       "      <td>#420 -388 RICHMOND ST</td>\n",
       "      <td>1</td>\n",
       "      <td>1</td>\n",
       "      <td>Ontario</td>\n",
       "      <td>5647656</td>\n",
       "      <td>43.7417</td>\n",
       "      <td>-79.3733</td>\n",
       "      <td>97000.0</td>\n",
       "    </tr>\n",
       "    <tr>\n",
       "      <th>5</th>\n",
       "      <td>Toronto</td>\n",
       "      <td>548000.0</td>\n",
       "      <td>#2503 -99 HARBOUR SQ</td>\n",
       "      <td>0</td>\n",
       "      <td>1</td>\n",
       "      <td>Ontario</td>\n",
       "      <td>5647656</td>\n",
       "      <td>43.7417</td>\n",
       "      <td>-79.3733</td>\n",
       "      <td>97000.0</td>\n",
       "    </tr>\n",
       "    <tr>\n",
       "      <th>6</th>\n",
       "      <td>Toronto</td>\n",
       "      <td>669900.0</td>\n",
       "      <td>#817 -151 DAN LECKIE WAY</td>\n",
       "      <td>2</td>\n",
       "      <td>1</td>\n",
       "      <td>Ontario</td>\n",
       "      <td>5647656</td>\n",
       "      <td>43.7417</td>\n",
       "      <td>-79.3733</td>\n",
       "      <td>97000.0</td>\n",
       "    </tr>\n",
       "    <tr>\n",
       "      <th>7</th>\n",
       "      <td>Toronto</td>\n",
       "      <td>699000.0</td>\n",
       "      <td>#1107 -438 KING ST W</td>\n",
       "      <td>2</td>\n",
       "      <td>2</td>\n",
       "      <td>Ontario</td>\n",
       "      <td>5647656</td>\n",
       "      <td>43.7417</td>\n",
       "      <td>-79.3733</td>\n",
       "      <td>97000.0</td>\n",
       "    </tr>\n",
       "    <tr>\n",
       "      <th>8</th>\n",
       "      <td>Toronto</td>\n",
       "      <td>978000.0</td>\n",
       "      <td>#2708 -20 EDWARD ST</td>\n",
       "      <td>3</td>\n",
       "      <td>2</td>\n",
       "      <td>Ontario</td>\n",
       "      <td>5647656</td>\n",
       "      <td>43.7417</td>\n",
       "      <td>-79.3733</td>\n",
       "      <td>97000.0</td>\n",
       "    </tr>\n",
       "    <tr>\n",
       "      <th>9</th>\n",
       "      <td>Toronto</td>\n",
       "      <td>958000.0</td>\n",
       "      <td>#4616 -386 YONGE ST</td>\n",
       "      <td>2</td>\n",
       "      <td>2</td>\n",
       "      <td>Ontario</td>\n",
       "      <td>5647656</td>\n",
       "      <td>43.7417</td>\n",
       "      <td>-79.3733</td>\n",
       "      <td>97000.0</td>\n",
       "    </tr>\n",
       "  </tbody>\n",
       "</table>\n",
       "</div>"
      ],
      "text/plain": [
       "      City      Price                   Address  Number_Beds  Number_Baths  \\\n",
       "0  Toronto   779900.0     #318 -20 SOUTHPORT ST            3             2   \n",
       "1  Toronto   799999.0     #818 -60 SOUTHPORT ST            3             1   \n",
       "2  Toronto   799900.0   #714 -859 THE QUEENSWAY            2             2   \n",
       "3  Toronto  1200000.0          275 MORTIMER AVE            4             2   \n",
       "4  Toronto   668800.0     #420 -388 RICHMOND ST            1             1   \n",
       "5  Toronto   548000.0      #2503 -99 HARBOUR SQ            0             1   \n",
       "6  Toronto   669900.0  #817 -151 DAN LECKIE WAY            2             1   \n",
       "7  Toronto   699000.0      #1107 -438 KING ST W            2             2   \n",
       "8  Toronto   978000.0       #2708 -20 EDWARD ST            3             2   \n",
       "9  Toronto   958000.0       #4616 -386 YONGE ST            2             2   \n",
       "\n",
       "  Province  Population  Latitude  Longitude  Median_Family_Income  \n",
       "0  Ontario     5647656   43.7417   -79.3733               97000.0  \n",
       "1  Ontario     5647656   43.7417   -79.3733               97000.0  \n",
       "2  Ontario     5647656   43.7417   -79.3733               97000.0  \n",
       "3  Ontario     5647656   43.7417   -79.3733               97000.0  \n",
       "4  Ontario     5647656   43.7417   -79.3733               97000.0  \n",
       "5  Ontario     5647656   43.7417   -79.3733               97000.0  \n",
       "6  Ontario     5647656   43.7417   -79.3733               97000.0  \n",
       "7  Ontario     5647656   43.7417   -79.3733               97000.0  \n",
       "8  Ontario     5647656   43.7417   -79.3733               97000.0  \n",
       "9  Ontario     5647656   43.7417   -79.3733               97000.0  "
      ]
     },
     "execution_count": 1881,
     "metadata": {},
     "output_type": "execute_result"
    }
   ],
   "source": [
    "\n",
    "df.head(10)"
   ]
  },
  {
   "cell_type": "code",
   "execution_count": 1882,
   "id": "2682f436",
   "metadata": {},
   "outputs": [
    {
     "data": {
      "text/plain": [
       "array(['Toronto', 'Vancouver', 'Calgary', 'Edmonton', 'Ottawa',\n",
       "       'Winnipeg', 'Hamilton', 'Kitchener', 'London', 'St. Catharines',\n",
       "       'Oshawa', 'Victoria', 'Windsor', 'Saskatoon', 'Regina',\n",
       "       \"St. John's\", 'Barrie', 'Kelowna', 'Abbotsford', 'Sudbury',\n",
       "       'Kingston', 'Guelph', 'Moncton', 'Brantford', 'Thunder Bay',\n",
       "       'Saint John', 'Peterborough', 'Red Deer', 'Kamloops', 'Nanaimo',\n",
       "       'Lethbridge', 'White Rock', 'Maple Ridge', 'Prince George',\n",
       "       'Sault Ste. Marie', 'Medicine Hat', 'New Westminster', 'Caledon',\n",
       "       'Burnaby', 'Airdrie', 'Montreal', 'Sherbrooke', 'Quebec',\n",
       "       'Trois-Rivieres', 'Halifax'], dtype=object)"
      ]
     },
     "execution_count": 1882,
     "metadata": {},
     "output_type": "execute_result"
    }
   ],
   "source": [
    "df['City'].unique()"
   ]
  },
  {
   "cell_type": "code",
   "execution_count": 1883,
   "id": "f1b38278",
   "metadata": {},
   "outputs": [
    {
     "name": "stdout",
     "output_type": "stream",
     "text": [
      "9\n"
     ]
    },
    {
     "data": {
      "text/plain": [
       "array(['Ontario', 'British Columbia', 'Alberta', 'Manitoba',\n",
       "       'Saskatchewan', 'Newfoundland and Labrador', 'New Brunswick',\n",
       "       'Quebec', 'Nova Scotia'], dtype=object)"
      ]
     },
     "execution_count": 1883,
     "metadata": {},
     "output_type": "execute_result"
    }
   ],
   "source": [
    "print(len(df['Province'].unique()))\n",
    "df['Province'].unique()"
   ]
  },
  {
   "cell_type": "code",
   "execution_count": 1884,
   "id": "b614aeae",
   "metadata": {},
   "outputs": [
    {
     "data": {
      "text/plain": [
       "City\n",
       "Regina              1917\n",
       "Saskatoon           1800\n",
       "Edmonton            1351\n",
       "London              1345\n",
       "New Westminster     1337\n",
       "Caledon             1336\n",
       "Burnaby             1334\n",
       "Vancouver           1328\n",
       "Victoria            1325\n",
       "Calgary             1322\n",
       "Hamilton            1289\n",
       "Maple Ridge         1282\n",
       "Kelowna             1280\n",
       "Toronto             1276\n",
       "St. Catharines      1268\n",
       "Kitchener           1199\n",
       "White Rock          1175\n",
       "Ottawa              1097\n",
       "Oshawa              1082\n",
       "Barrie              1012\n",
       "Abbotsford           755\n",
       "Windsor              720\n",
       "Nanaimo              683\n",
       "St. John's           654\n",
       "Brantford            628\n",
       "Winnipeg             531\n",
       "Kingston             486\n",
       "Saint John           458\n",
       "Kamloops             442\n",
       "Guelph               436\n",
       "Moncton              416\n",
       "Lethbridge           379\n",
       "Red Deer             326\n",
       "Peterborough         307\n",
       "Prince George        307\n",
       "Medicine Hat         277\n",
       "Airdrie              225\n",
       "Montreal             212\n",
       "Sudbury              203\n",
       "Sherbrooke           197\n",
       "Quebec               196\n",
       "Trois-Rivieres       165\n",
       "Sault Ste. Marie     165\n",
       "Thunder Bay          154\n",
       "Halifax               91\n",
       "Name: count, dtype: int64"
      ]
     },
     "execution_count": 1884,
     "metadata": {},
     "output_type": "execute_result"
    }
   ],
   "source": [
    "df['City'].value_counts()"
   ]
  },
  {
   "cell_type": "code",
   "execution_count": 1885,
   "id": "5467c67b",
   "metadata": {},
   "outputs": [
    {
     "data": {
      "text/plain": [
       "Province\n",
       "Ontario                      14015\n",
       "British Columbia             11244\n",
       "Alberta                       3880\n",
       "Saskatchewan                  3707\n",
       "New Brunswick                  874\n",
       "Quebec                         770\n",
       "Newfoundland and Labrador      657\n",
       "Manitoba                       530\n",
       "Nova Scotia                     91\n",
       "Name: count, dtype: int64"
      ]
     },
     "execution_count": 1885,
     "metadata": {},
     "output_type": "execute_result"
    }
   ],
   "source": [
    "df['Province'].value_counts()"
   ]
  },
  {
   "cell_type": "markdown",
   "id": "d188de1d",
   "metadata": {},
   "source": [
    "# Drop features that are not required for this project."
   ]
  },
  {
   "cell_type": "code",
   "execution_count": 1886,
   "id": "071f1d6e",
   "metadata": {},
   "outputs": [
    {
     "data": {
      "text/plain": [
       "(35768, 6)"
      ]
     },
     "execution_count": 1886,
     "metadata": {},
     "output_type": "execute_result"
    }
   ],
   "source": [
    "df1 = df.drop(['Population', 'Latitude', 'Longitude', 'Median_Family_Income'], axis='columns')\n",
    "df1.shape"
   ]
  },
  {
   "cell_type": "code",
   "execution_count": 1887,
   "id": "9f3c9e69",
   "metadata": {},
   "outputs": [
    {
     "data": {
      "text/html": [
       "<div>\n",
       "<style scoped>\n",
       "    .dataframe tbody tr th:only-of-type {\n",
       "        vertical-align: middle;\n",
       "    }\n",
       "\n",
       "    .dataframe tbody tr th {\n",
       "        vertical-align: top;\n",
       "    }\n",
       "\n",
       "    .dataframe thead th {\n",
       "        text-align: right;\n",
       "    }\n",
       "</style>\n",
       "<table border=\"1\" class=\"dataframe\">\n",
       "  <thead>\n",
       "    <tr style=\"text-align: right;\">\n",
       "      <th></th>\n",
       "      <th>City</th>\n",
       "      <th>Price</th>\n",
       "      <th>Address</th>\n",
       "      <th>Number_Beds</th>\n",
       "      <th>Number_Baths</th>\n",
       "      <th>Province</th>\n",
       "    </tr>\n",
       "  </thead>\n",
       "  <tbody>\n",
       "    <tr>\n",
       "      <th>0</th>\n",
       "      <td>Toronto</td>\n",
       "      <td>779900.0</td>\n",
       "      <td>#318 -20 SOUTHPORT ST</td>\n",
       "      <td>3</td>\n",
       "      <td>2</td>\n",
       "      <td>Ontario</td>\n",
       "    </tr>\n",
       "    <tr>\n",
       "      <th>1</th>\n",
       "      <td>Toronto</td>\n",
       "      <td>799999.0</td>\n",
       "      <td>#818 -60 SOUTHPORT ST</td>\n",
       "      <td>3</td>\n",
       "      <td>1</td>\n",
       "      <td>Ontario</td>\n",
       "    </tr>\n",
       "    <tr>\n",
       "      <th>2</th>\n",
       "      <td>Toronto</td>\n",
       "      <td>799900.0</td>\n",
       "      <td>#714 -859 THE QUEENSWAY</td>\n",
       "      <td>2</td>\n",
       "      <td>2</td>\n",
       "      <td>Ontario</td>\n",
       "    </tr>\n",
       "    <tr>\n",
       "      <th>3</th>\n",
       "      <td>Toronto</td>\n",
       "      <td>1200000.0</td>\n",
       "      <td>275 MORTIMER AVE</td>\n",
       "      <td>4</td>\n",
       "      <td>2</td>\n",
       "      <td>Ontario</td>\n",
       "    </tr>\n",
       "    <tr>\n",
       "      <th>4</th>\n",
       "      <td>Toronto</td>\n",
       "      <td>668800.0</td>\n",
       "      <td>#420 -388 RICHMOND ST</td>\n",
       "      <td>1</td>\n",
       "      <td>1</td>\n",
       "      <td>Ontario</td>\n",
       "    </tr>\n",
       "    <tr>\n",
       "      <th>5</th>\n",
       "      <td>Toronto</td>\n",
       "      <td>548000.0</td>\n",
       "      <td>#2503 -99 HARBOUR SQ</td>\n",
       "      <td>0</td>\n",
       "      <td>1</td>\n",
       "      <td>Ontario</td>\n",
       "    </tr>\n",
       "    <tr>\n",
       "      <th>6</th>\n",
       "      <td>Toronto</td>\n",
       "      <td>669900.0</td>\n",
       "      <td>#817 -151 DAN LECKIE WAY</td>\n",
       "      <td>2</td>\n",
       "      <td>1</td>\n",
       "      <td>Ontario</td>\n",
       "    </tr>\n",
       "    <tr>\n",
       "      <th>7</th>\n",
       "      <td>Toronto</td>\n",
       "      <td>699000.0</td>\n",
       "      <td>#1107 -438 KING ST W</td>\n",
       "      <td>2</td>\n",
       "      <td>2</td>\n",
       "      <td>Ontario</td>\n",
       "    </tr>\n",
       "    <tr>\n",
       "      <th>8</th>\n",
       "      <td>Toronto</td>\n",
       "      <td>978000.0</td>\n",
       "      <td>#2708 -20 EDWARD ST</td>\n",
       "      <td>3</td>\n",
       "      <td>2</td>\n",
       "      <td>Ontario</td>\n",
       "    </tr>\n",
       "    <tr>\n",
       "      <th>9</th>\n",
       "      <td>Toronto</td>\n",
       "      <td>958000.0</td>\n",
       "      <td>#4616 -386 YONGE ST</td>\n",
       "      <td>2</td>\n",
       "      <td>2</td>\n",
       "      <td>Ontario</td>\n",
       "    </tr>\n",
       "    <tr>\n",
       "      <th>10</th>\n",
       "      <td>Toronto</td>\n",
       "      <td>1899000.0</td>\n",
       "      <td>#2713 -155 YORKVILLE AVE</td>\n",
       "      <td>2</td>\n",
       "      <td>3</td>\n",
       "      <td>Ontario</td>\n",
       "    </tr>\n",
       "    <tr>\n",
       "      <th>11</th>\n",
       "      <td>Toronto</td>\n",
       "      <td>559900.0</td>\n",
       "      <td>#1113 -80 MILL ST</td>\n",
       "      <td>2</td>\n",
       "      <td>1</td>\n",
       "      <td>Ontario</td>\n",
       "    </tr>\n",
       "    <tr>\n",
       "      <th>12</th>\n",
       "      <td>Toronto</td>\n",
       "      <td>498800.0</td>\n",
       "      <td>#517 -55 EAST LIBERTY ST</td>\n",
       "      <td>1</td>\n",
       "      <td>1</td>\n",
       "      <td>Ontario</td>\n",
       "    </tr>\n",
       "    <tr>\n",
       "      <th>13</th>\n",
       "      <td>Toronto</td>\n",
       "      <td>1450000.0</td>\n",
       "      <td>45 BARTLETT AVE</td>\n",
       "      <td>4</td>\n",
       "      <td>2</td>\n",
       "      <td>Ontario</td>\n",
       "    </tr>\n",
       "    <tr>\n",
       "      <th>14</th>\n",
       "      <td>Toronto</td>\n",
       "      <td>650000.0</td>\n",
       "      <td>##1902 -1926 LAKE SHORE BLVD W</td>\n",
       "      <td>2</td>\n",
       "      <td>1</td>\n",
       "      <td>Ontario</td>\n",
       "    </tr>\n",
       "    <tr>\n",
       "      <th>15</th>\n",
       "      <td>Toronto</td>\n",
       "      <td>745000.0</td>\n",
       "      <td>##812 -103 THE QUEENSWAY</td>\n",
       "      <td>2</td>\n",
       "      <td>2</td>\n",
       "      <td>Ontario</td>\n",
       "    </tr>\n",
       "    <tr>\n",
       "      <th>16</th>\n",
       "      <td>Toronto</td>\n",
       "      <td>784900.0</td>\n",
       "      <td>#106 -10 WILBY CRES</td>\n",
       "      <td>3</td>\n",
       "      <td>2</td>\n",
       "      <td>Ontario</td>\n",
       "    </tr>\n",
       "    <tr>\n",
       "      <th>17</th>\n",
       "      <td>Toronto</td>\n",
       "      <td>998000.0</td>\n",
       "      <td>3065 WESTON RD</td>\n",
       "      <td>4</td>\n",
       "      <td>2</td>\n",
       "      <td>Ontario</td>\n",
       "    </tr>\n",
       "    <tr>\n",
       "      <th>18</th>\n",
       "      <td>Toronto</td>\n",
       "      <td>989900.0</td>\n",
       "      <td>468 MILVERTON BLVD</td>\n",
       "      <td>4</td>\n",
       "      <td>2</td>\n",
       "      <td>Ontario</td>\n",
       "    </tr>\n",
       "    <tr>\n",
       "      <th>19</th>\n",
       "      <td>Toronto</td>\n",
       "      <td>1099000.0</td>\n",
       "      <td>#1816 -35 MERCER ST</td>\n",
       "      <td>3</td>\n",
       "      <td>2</td>\n",
       "      <td>Ontario</td>\n",
       "    </tr>\n",
       "  </tbody>\n",
       "</table>\n",
       "</div>"
      ],
      "text/plain": [
       "       City      Price                         Address  Number_Beds  \\\n",
       "0   Toronto   779900.0           #318 -20 SOUTHPORT ST            3   \n",
       "1   Toronto   799999.0           #818 -60 SOUTHPORT ST            3   \n",
       "2   Toronto   799900.0         #714 -859 THE QUEENSWAY            2   \n",
       "3   Toronto  1200000.0                275 MORTIMER AVE            4   \n",
       "4   Toronto   668800.0           #420 -388 RICHMOND ST            1   \n",
       "5   Toronto   548000.0            #2503 -99 HARBOUR SQ            0   \n",
       "6   Toronto   669900.0        #817 -151 DAN LECKIE WAY            2   \n",
       "7   Toronto   699000.0            #1107 -438 KING ST W            2   \n",
       "8   Toronto   978000.0             #2708 -20 EDWARD ST            3   \n",
       "9   Toronto   958000.0             #4616 -386 YONGE ST            2   \n",
       "10  Toronto  1899000.0        #2713 -155 YORKVILLE AVE            2   \n",
       "11  Toronto   559900.0               #1113 -80 MILL ST            2   \n",
       "12  Toronto   498800.0        #517 -55 EAST LIBERTY ST            1   \n",
       "13  Toronto  1450000.0                 45 BARTLETT AVE            4   \n",
       "14  Toronto   650000.0  ##1902 -1926 LAKE SHORE BLVD W            2   \n",
       "15  Toronto   745000.0        ##812 -103 THE QUEENSWAY            2   \n",
       "16  Toronto   784900.0             #106 -10 WILBY CRES            3   \n",
       "17  Toronto   998000.0                  3065 WESTON RD            4   \n",
       "18  Toronto   989900.0              468 MILVERTON BLVD            4   \n",
       "19  Toronto  1099000.0             #1816 -35 MERCER ST            3   \n",
       "\n",
       "    Number_Baths Province  \n",
       "0              2  Ontario  \n",
       "1              1  Ontario  \n",
       "2              2  Ontario  \n",
       "3              2  Ontario  \n",
       "4              1  Ontario  \n",
       "5              1  Ontario  \n",
       "6              1  Ontario  \n",
       "7              2  Ontario  \n",
       "8              2  Ontario  \n",
       "9              2  Ontario  \n",
       "10             3  Ontario  \n",
       "11             1  Ontario  \n",
       "12             1  Ontario  \n",
       "13             2  Ontario  \n",
       "14             1  Ontario  \n",
       "15             2  Ontario  \n",
       "16             2  Ontario  \n",
       "17             2  Ontario  \n",
       "18             2  Ontario  \n",
       "19             2  Ontario  "
      ]
     },
     "execution_count": 1887,
     "metadata": {},
     "output_type": "execute_result"
    }
   ],
   "source": [
    "df1.head(20)"
   ]
  },
  {
   "cell_type": "code",
   "execution_count": 1888,
   "id": "1a4e88b1",
   "metadata": {},
   "outputs": [
    {
     "data": {
      "text/plain": [
       "City            0\n",
       "Price           0\n",
       "Address         0\n",
       "Number_Beds     0\n",
       "Number_Baths    0\n",
       "Province        0\n",
       "dtype: int64"
      ]
     },
     "execution_count": 1888,
     "metadata": {},
     "output_type": "execute_result"
    }
   ],
   "source": [
    "df1.isnull().sum()"
   ]
  },
  {
   "cell_type": "markdown",
   "id": "003b49b0",
   "metadata": {},
   "source": [
    "# removing duplicate values"
   ]
  },
  {
   "cell_type": "code",
   "execution_count": 1889,
   "id": "9c0f1e99",
   "metadata": {},
   "outputs": [
    {
     "data": {
      "text/plain": [
       "np.int64(2516)"
      ]
     },
     "execution_count": 1889,
     "metadata": {},
     "output_type": "execute_result"
    }
   ],
   "source": [
    "df1.duplicated().sum()"
   ]
  },
  {
   "cell_type": "code",
   "execution_count": 1890,
   "id": "57597db7",
   "metadata": {},
   "outputs": [],
   "source": [
    "df1.drop_duplicates(inplace = True)"
   ]
  },
  {
   "cell_type": "code",
   "execution_count": 1891,
   "id": "5ce63299",
   "metadata": {},
   "outputs": [
    {
     "data": {
      "text/plain": [
       "np.int64(0)"
      ]
     },
     "execution_count": 1891,
     "metadata": {},
     "output_type": "execute_result"
    }
   ],
   "source": [
    "df1.duplicated().sum()"
   ]
  },
  {
   "cell_type": "markdown",
   "id": "0c281db4",
   "metadata": {},
   "source": [
    "# remove all listings with 0 beds"
   ]
  },
  {
   "cell_type": "code",
   "execution_count": 1892,
   "id": "0ae4944a",
   "metadata": {},
   "outputs": [
    {
     "name": "stdout",
     "output_type": "stream",
     "text": [
      "0\n"
     ]
    }
   ],
   "source": [
    "df1 = df1[df1['Number_Beds'] != 0]\n",
    "# print(df1)\n",
    "zero_bedroom = df1[df1['Number_Beds'] == 0]\n",
    "print(len(zero_bedroom))"
   ]
  },
  {
   "cell_type": "markdown",
   "id": "34c67015",
   "metadata": {},
   "source": [
    "# remove all listings with 0 baths"
   ]
  },
  {
   "cell_type": "code",
   "execution_count": 1893,
   "id": "6ce9bbb5",
   "metadata": {},
   "outputs": [
    {
     "name": "stdout",
     "output_type": "stream",
     "text": [
      "0\n"
     ]
    }
   ],
   "source": [
    "df1 = df1[df1['Number_Baths'] != 0]\n",
    "# print(df1)\n",
    "zero_bathroom = df1[df1['Number_Baths'] == 0]\n",
    "print(len(zero_bathroom))"
   ]
  },
  {
   "cell_type": "code",
   "execution_count": 1894,
   "id": "7e98a4aa",
   "metadata": {},
   "outputs": [
    {
     "data": {
      "text/plain": [
       "City\n",
       "Caledon             1327\n",
       "Edmonton            1309\n",
       "New Westminster     1304\n",
       "London              1302\n",
       "Calgary             1301\n",
       "Burnaby             1285\n",
       "Vancouver           1278\n",
       "Kelowna             1269\n",
       "Maple Ridge         1268\n",
       "Hamilton            1262\n",
       "Toronto             1253\n",
       "Victoria            1252\n",
       "St. Catharines      1243\n",
       "White Rock          1162\n",
       "Kitchener           1147\n",
       "Oshawa              1062\n",
       "Ottawa              1059\n",
       "Barrie               996\n",
       "Regina               974\n",
       "Saskatoon            911\n",
       "Abbotsford           747\n",
       "Windsor              716\n",
       "St. John's           647\n",
       "Brantford            610\n",
       "Nanaimo              560\n",
       "Winnipeg             476\n",
       "Kingston             466\n",
       "Kamloops             441\n",
       "Guelph               432\n",
       "Moncton              407\n",
       "Lethbridge           378\n",
       "Red Deer             325\n",
       "Peterborough         305\n",
       "Prince George        303\n",
       "Medicine Hat         277\n",
       "Airdrie              225\n",
       "Sudbury              199\n",
       "Quebec               196\n",
       "Montreal             168\n",
       "Sault Ste. Marie     164\n",
       "Thunder Bay          154\n",
       "Sherbrooke           153\n",
       "Saint John           102\n",
       "Halifax               91\n",
       "Trois-Rivieres        66\n",
       "Name: count, dtype: int64"
      ]
     },
     "execution_count": 1894,
     "metadata": {},
     "output_type": "execute_result"
    }
   ],
   "source": [
    "df1.City = df1.City.apply(lambda x: x.strip())\n",
    "location_stats = df1['City'].value_counts(ascending=False)\n",
    "location_stats"
   ]
  },
  {
   "cell_type": "code",
   "execution_count": 1895,
   "id": "bbbc6231",
   "metadata": {},
   "outputs": [
    {
     "data": {
      "text/plain": [
       "np.int64(32572)"
      ]
     },
     "execution_count": 1895,
     "metadata": {},
     "output_type": "execute_result"
    }
   ],
   "source": [
    "location_stats.values.sum()"
   ]
  },
  {
   "cell_type": "code",
   "execution_count": 1896,
   "id": "5d506545",
   "metadata": {},
   "outputs": [
    {
     "data": {
      "text/plain": [
       "count    32572.000000\n",
       "mean         3.356840\n",
       "std          1.702935\n",
       "min          1.000000\n",
       "25%          2.000000\n",
       "50%          3.000000\n",
       "75%          4.000000\n",
       "max        109.000000\n",
       "Name: Number_Beds, dtype: float64"
      ]
     },
     "execution_count": 1896,
     "metadata": {},
     "output_type": "execute_result"
    }
   ],
   "source": [
    "df1.Number_Beds.describe()"
   ]
  },
  {
   "cell_type": "markdown",
   "id": "3b8ca20d",
   "metadata": {},
   "source": [
    "# remove the rows with 11 or more bedrooms"
   ]
  },
  {
   "cell_type": "code",
   "execution_count": 1897,
   "id": "0d597623",
   "metadata": {},
   "outputs": [
    {
     "name": "stdout",
     "output_type": "stream",
     "text": [
      "61\n"
     ]
    }
   ],
   "source": [
    "unusual_bedrooms = df1[df1['Number_Beds'] >= 11]\n",
    "print(len(unusual_bedrooms))"
   ]
  },
  {
   "cell_type": "code",
   "execution_count": 1898,
   "id": "acd98f24",
   "metadata": {},
   "outputs": [
    {
     "data": {
      "text/plain": [
       "(32511, 6)"
      ]
     },
     "execution_count": 1898,
     "metadata": {},
     "output_type": "execute_result"
    }
   ],
   "source": [
    "df1 = df1[df1['Number_Beds'] < 11]\n",
    "df1.shape"
   ]
  },
  {
   "cell_type": "markdown",
   "id": "93176ce7",
   "metadata": {},
   "source": [
    "# remove the rows with 6 or more bathrooms"
   ]
  },
  {
   "cell_type": "code",
   "execution_count": 1899,
   "id": "abd63c8d",
   "metadata": {},
   "outputs": [
    {
     "name": "stdout",
     "output_type": "stream",
     "text": [
      "831\n"
     ]
    }
   ],
   "source": [
    "unusual_bathrooms = df1[df1['Number_Baths'] >= 6]\n",
    "print(len(unusual_bathrooms))"
   ]
  },
  {
   "cell_type": "code",
   "execution_count": 1900,
   "id": "92cf6748",
   "metadata": {},
   "outputs": [
    {
     "data": {
      "text/plain": [
       "(30173, 6)"
      ]
     },
     "execution_count": 1900,
     "metadata": {},
     "output_type": "execute_result"
    }
   ],
   "source": [
    "df1 = df1[df1['Number_Beds'] < 6]\n",
    "df1.shape"
   ]
  },
  {
   "cell_type": "code",
   "execution_count": 1901,
   "id": "8b29e310",
   "metadata": {},
   "outputs": [
    {
     "name": "stdout",
     "output_type": "stream",
     "text": [
      "(28511, 6)\n"
     ]
    }
   ],
   "source": [
    "df1 = df1.drop_duplicates(subset='Address', keep='first')\n",
    "print(df1.shape)"
   ]
  }
 ],
 "metadata": {
  "kernelspec": {
   "display_name": "Python 3",
   "language": "python",
   "name": "python3"
  },
  "language_info": {
   "codemirror_mode": {
    "name": "ipython",
    "version": 3
   },
   "file_extension": ".py",
   "mimetype": "text/x-python",
   "name": "python",
   "nbconvert_exporter": "python",
   "pygments_lexer": "ipython3",
   "version": "3.12.6"
  }
 },
 "nbformat": 4,
 "nbformat_minor": 5
}
